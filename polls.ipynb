{
 "cells": [
  {
   "cell_type": "code",
   "execution_count": 1,
   "id": "60a7b3fc-a19d-44e9-91af-8caa92d459b7",
   "metadata": {},
   "outputs": [],
   "source": [
    "import pandas as pd\n",
    "from datetime import datetime\n",
    "from matplotlib import pyplot as plt"
   ]
  },
  {
   "cell_type": "code",
   "execution_count": 2,
   "id": "501b9073-c5e7-4687-9903-899103211561",
   "metadata": {},
   "outputs": [],
   "source": [
    "polls = pd.read_csv('president_polls.csv')"
   ]
  },
  {
   "cell_type": "code",
   "execution_count": 3,
   "id": "ac2b5c7a-28b0-4138-aa37-e68aaabf783a",
   "metadata": {},
   "outputs": [
    {
     "data": {
      "text/plain": [
       "Index(['poll_id', 'pollster_id', 'pollster', 'sponsor_ids', 'sponsors',\n",
       "       'display_name', 'pollster_rating_id', 'pollster_rating_name',\n",
       "       'numeric_grade', 'pollscore', 'methodology', 'transparency_score',\n",
       "       'state', 'start_date', 'end_date', 'sponsor_candidate_id',\n",
       "       'sponsor_candidate', 'sponsor_candidate_party', 'endorsed_candidate_id',\n",
       "       'endorsed_candidate_name', 'endorsed_candidate_party', 'question_id',\n",
       "       'sample_size', 'population', 'subpopulation', 'population_full',\n",
       "       'tracking', 'created_at', 'notes', 'url', 'url_article', 'url_topline',\n",
       "       'url_crosstab', 'source', 'internal', 'partisan', 'race_id', 'cycle',\n",
       "       'office_type', 'seat_number', 'seat_name', 'election_date', 'stage',\n",
       "       'nationwide_batch', 'ranked_choice_reallocated', 'ranked_choice_round',\n",
       "       'hypothetical', 'party', 'answer', 'candidate_id', 'candidate_name',\n",
       "       'pct'],\n",
       "      dtype='object')"
      ]
     },
     "execution_count": 3,
     "metadata": {},
     "output_type": "execute_result"
    }
   ],
   "source": [
    "polls.columns"
   ]
  },
  {
   "cell_type": "markdown",
   "id": "bbfe80d2-bad9-453c-9912-4d38b230f9dd",
   "metadata": {},
   "source": [
    "First we filter out any older than October 15th. The dates are not stored in ISO form so rewrite them"
   ]
  },
  {
   "cell_type": "code",
   "execution_count": 4,
   "id": "89ccfe3b-daa0-4cc0-82ec-1008ac6cc96d",
   "metadata": {},
   "outputs": [],
   "source": [
    "polls['start'] = [datetime.strptime(d, \"%m/%d/%y\").strftime('%Y/%m/%d') for d in polls.start_date]\n",
    "polls['end'] = [datetime.strptime(d, \"%m/%d/%y\").strftime('%Y/%m/%d') for d in polls.end_date]"
   ]
  },
  {
   "cell_type": "code",
   "execution_count": 5,
   "id": "d8ae778e-d1fa-4e7b-ae23-d4f552559fe4",
   "metadata": {},
   "outputs": [],
   "source": [
    "recent = polls[polls.start > '2024/10/15']"
   ]
  },
  {
   "cell_type": "markdown",
   "id": "641732f6-ab57-40cc-a6e7-0cc309573215",
   "metadata": {},
   "source": [
    "Then we find the polls we have a decent number of"
   ]
  },
  {
   "cell_type": "code",
   "execution_count": 6,
   "id": "485fa6a8-951e-436d-b05f-a841980d3383",
   "metadata": {},
   "outputs": [
    {
     "data": {
      "text/plain": [
       "state\n",
       "Arizona           30\n",
       "Georgia           23\n",
       "Michigan          37\n",
       "Nevada            21\n",
       "North Carolina    27\n",
       "Pennsylvania      39\n",
       "Wisconsin         32\n",
       "Name: poll_id, dtype: int64"
      ]
     },
     "execution_count": 6,
     "metadata": {},
     "output_type": "execute_result"
    }
   ],
   "source": [
    "n_by_state = recent.groupby('state').poll_id.nunique()\n",
    "n_by_state[n_by_state > 20]"
   ]
  },
  {
   "cell_type": "markdown",
   "id": "99f700bd-eb0d-46e5-8017-f100d83d973d",
   "metadata": {},
   "source": [
    "Arizona and Nevada still have a significant number of ballots to count, so we will focus on the other ones"
   ]
  },
  {
   "cell_type": "code",
   "execution_count": 7,
   "id": "04ede143-f984-4fbe-92bb-e03acc2c1e88",
   "metadata": {},
   "outputs": [],
   "source": [
    "states = ['Georgia', 'Michigan', 'North Carolina', 'Pennsylvania', 'Wisconsin']\n",
    "data = recent[recent.state.isin(states)]"
   ]
  },
  {
   "cell_type": "markdown",
   "id": "cfddac86-b98d-4db1-9a0d-e24240fdba90",
   "metadata": {},
   "source": [
    "Also we can restrict to likely voters"
   ]
  },
  {
   "cell_type": "code",
   "execution_count": 8,
   "id": "6e68e714-1fa7-43aa-9798-cab15dcc5bd7",
   "metadata": {},
   "outputs": [],
   "source": [
    "data = data[data.population == 'lv']"
   ]
  },
  {
   "cell_type": "markdown",
   "id": "a80a55b5-d33b-471e-9553-87addf5ed82b",
   "metadata": {},
   "source": [
    "Get the data for each candidate we care about (sorry Chase and Jill)"
   ]
  },
  {
   "cell_type": "code",
   "execution_count": 9,
   "id": "d2308e00-10f4-4984-ab15-0c06524beb22",
   "metadata": {},
   "outputs": [],
   "source": [
    "trump_data = data[data.candidate_id == 16651]\n",
    "harris_data = data[data.candidate_id == 16661]"
   ]
  },
  {
   "cell_type": "markdown",
   "id": "5febc5c6-e60d-4020-924e-aa1ce269f2de",
   "metadata": {},
   "source": [
    "We will use the max percentage for each poll, as that should represent the head to head result"
   ]
  },
  {
   "cell_type": "code",
   "execution_count": 10,
   "id": "7a28aa23-6365-4bb8-a7de-8028563ab5eb",
   "metadata": {},
   "outputs": [],
   "source": [
    "margin = trump_data.groupby('poll_id').pct.max() - harris_data.groupby('poll_id').pct.max()"
   ]
  },
  {
   "cell_type": "markdown",
   "id": "49cd48b5-2dd1-4eb8-b38e-5ba287e0be78",
   "metadata": {},
   "source": [
    "Just a sanity check"
   ]
  },
  {
   "cell_type": "code",
   "execution_count": 11,
   "id": "c750261f-4456-4521-8bef-6454afc2b90a",
   "metadata": {},
   "outputs": [],
   "source": [
    "by_poll = data.groupby('poll_id')"
   ]
  },
  {
   "cell_type": "code",
   "execution_count": 12,
   "id": "6b3d1b24-859a-4297-ae79-bb43f42ff5b3",
   "metadata": {},
   "outputs": [],
   "source": [
    "for col in ['state', 'sample_size', 'start_date', 'race_id', 'url_topline']:\n",
    "    max(by_poll[col].nunique())"
   ]
  },
  {
   "cell_type": "code",
   "execution_count": 13,
   "id": "bfc205f5-dec1-4f3d-a6b6-77aca8477e14",
   "metadata": {},
   "outputs": [],
   "source": [
    "poll_data = pd.DataFrame({'margin': margin, \n",
    "                          'state': by_poll.state.first(), \n",
    "                          'sample_size': by_poll.sample_size.first(), \n",
    "                          'url': by_poll.url_topline.first()}).dropna()"
   ]
  },
  {
   "cell_type": "code",
   "execution_count": 14,
   "id": "a0e9da17-aaeb-4f77-967e-ed693365204c",
   "metadata": {},
   "outputs": [],
   "source": [
    "results = {\"Georgia\": 2.2, \"Michigan\": 1.4, \"North Carolina\": 3.3, \"Pennsylvania\": 2, \"Wisconsin\": 0.8}\n",
    "turnouts = {\"Georgia\": 5247095, \"Michigan\": 5653664, \"North Carolina\": 5639974, \"Pennsylvania\": 6958777, \"Wisconsin\": 3420185}\n"
   ]
  },
  {
   "cell_type": "code",
   "execution_count": 15,
   "id": "2a56bcc8-f8f3-4194-baea-d968603c5d27",
   "metadata": {},
   "outputs": [],
   "source": [
    "poll_data[\"result\"] = [results[state] for state in poll_data.state]\n",
    "poll_data[\"turnout\"] = [turnouts[state] for state in poll_data.state]"
   ]
  },
  {
   "cell_type": "code",
   "execution_count": 16,
   "id": "3669eae0-f792-4dab-903f-73cf25c7a0b4",
   "metadata": {},
   "outputs": [
    {
     "data": {
      "image/png": "[encoded data removed]",
      "text/plain": [
       "<Figure size 640x480 with 1 Axes>"
      ]
     },
     "metadata": {},
     "output_type": "display_data"
    }
   ],
   "source": [
    "plt.hist(poll_data.margin - poll_data.result)\n",
    "plt.title(\"Absolute Polling Errors\")\n",
    "plt.xlabel(\"Error in favor of Trump\")\n",
    "plt.xlim(-8, 8)\n",
    "plt.show()"
   ]
  },
  {
   "cell_type": "markdown",
   "id": "dcb51655-4c98-4694-9c97-70bf5210206f",
   "metadata": {},
   "source": [
    "The data does not include the margins of error, so I had to manually look them up. For a handful I could not easily find them, so I am excluding them."
   ]
  },
  {
   "cell_type": "code",
   "execution_count": 17,
   "id": "dc7ef7d0-2157-4261-a754-f2e63bcf863f",
   "metadata": {
    "jupyter": {
     "source_hidden": true
    },
    "scrolled": true
   },
   "outputs": [],
   "source": [
    "moes = {\n",
    " 88807: 2.9,\n",
    " 88836: 3.03,\n",
    " 88844: 2.9,\n",
    " 88845: 2.9,\n",
    " 88942: 4,\n",
    " 88967: 2.9,\n",
    " 88974: None,\n",
    " 88992: 4, \n",
    " 88994: 4,\n",
    " 89017: 4.9,\n",
    " 89025: 3.46,\n",
    " 89029: 2.9,\n",
    " 89065: 3.4,\n",
    " 89082: None,\n",
    " 89102: 4.38,\n",
    " 89103: None,\n",
    " 89109: 2.5,\n",
    " 89110: 2.5,\n",
    " 89113: 3,\n",
    " 89120: 3.7,\n",
    " 89130: 3.8,\n",
    " 89135: 3.4,\n",
    " 89137: 3.5,\n",
    " 89138: 4.4,\n",
    " 89139: 4.5,\n",
    " 89156: None,\n",
    " 89163: 4,\n",
    " 89197: 3.1,\n",
    " 89271: 4.1,\n",
    " 89272: 3.6,\n",
    " 89274: 3.7,\n",
    " 89275: 2.9,\n",
    " 89276: 3.4,\n",
    " 89306: 2.9,\n",
    " 89314: 2.9,\n",
    " 89315: 2.9,\n",
    " 89343: None,\n",
    " 89345: 3.6,\n",
    " 89346: 3.5,\n",
    " 89347: 3.6\n",
    "}"
   ]
  },
  {
   "cell_type": "code",
   "execution_count": 18,
   "id": "188d776e-606a-40f9-b282-086a3acef83a",
   "metadata": {},
   "outputs": [
    {
     "name": "stdout",
     "output_type": "stream",
     "text": [
      "88807: Pennsylvania, https://www.thetrafalgargroup.org/wp-content/uploads/2024/10/PA-24-General-1020-Poll-Report.pdf\n",
      "88836: Pennsylvania, https://docs.google.com/document/d/1EUb3A_M9KbY91NMY-szLiOD6XmXTlY-w/edit\n",
      "88844: Wisconsin, https://www.thetrafalgargroup.org/wp-content/uploads/2024/10/WI-Gen-Pres-Report-1021.pdf\n",
      "88845: Michigan, https://www.thetrafalgargroup.org/wp-content/uploads/2024/10/MI-Gen-Pres-Poll-Report-1021.pdf\n",
      "88942: Wisconsin, https://senopportunity.org/wp-content/uploads/2024/10/2024-10-SOF-Battground-Polling-NV-OH-WI-Deck.pdf\n",
      "88967: Georgia, https://www.thetrafalgargroup.org/wp-content/uploads/2024/10/GA-24-General-1027_Report.pdf\n",
      "88974: Wisconsin, https://www.suffolk.edu/-/media/suffolk/documents/academics/research-at-suffolk/suprc/polls/other-states/2024/10_28_2024_wisconsin_statewide_marginals.pdf\n",
      "88992: Pennsylvania, https://cdn.amgreatness.com/app/uploads/2024/10/PA-October-Toplines.pdf\n",
      "88994: Michigan, https://s3.documentcloud.org/documents/25260347/late-october-2024-statewide-survey-report-1.pdf\n",
      "89017: Michigan, https://x.com/SusquehannaPR/status/1851266619445571914\n",
      "89025: Wisconsin, https://insideradvantage.com/insideradvantage-wisconsin-survey-trump-leads-by-one-point-hovde-leads-by-one-in-tight-senate-race/\n",
      "89029: North Carolina, https://www.thetrafalgargroup.org/wp-content/uploads/2024/10/NC-24-General-1029_Report.pdf\n",
      "89065: Michigan, https://drive.google.com/file/d/1KV-ksokyI9Flj6QGUT7CUR2Gia7DYaSi/view\n",
      "89082: Michigan, https://www.suffolk.edu/-/media/suffolk/documents/academics/research-at-suffolk/suprc/polls/other-states/2024/10_30_2024_michigan_statewide_marginals.pdf\n",
      "89102: Pennsylvania, https://mcusercontent.com/fadb7f1420fadfe09cc9d0f9c/files/a54b534a-f99a-9018-aae9-ae8a1b683189/PAStatewide_Toplines_LaTorre_Oct2024.01.pdf\n",
      "89103: Wisconsin, https://law.marquette.edu/poll/wp-content/uploads/2024/10/MLSP83ToplinesLV.html\n",
      "89109: Pennsylvania, https://static.foxnews.com/foxnews.com/content/uploads/2024/10/fox_october-24-28-2024_pennsylvania_topline_october-30-release.pdf\n",
      "89110: Michigan, https://static.foxnews.com/foxnews.com/content/uploads/2024/10/fox_october-24-28-2024_michigan_topline_october-30-release.pdf\n",
      "89113: North Carolina, https://static.foxnews.com/foxnews.com/content/uploads/2024/10/fox_october-24-28-2024_north-carolina_topline_october-30-release.pdf\n",
      "89120: Michigan, https://www.washingtonpost.com/documents/30e6ea7b-e4df-4474-a3fd-48d1bc1a1bc1.pdf\n",
      "89130: Georgia, https://poll.citadel.edu/wp-content/uploads/2024/10/The-Citadel-Poll-102024GA.pdf\n",
      "89135: Georgia, https://backend.natpublicaffairs.com/media/NPA_Internal_GA_Statewide_GeneralResearch_Memo_October_Public.pdf\n",
      "89137: Wisconsin, https://echelonin.wpenginepowered.com/wp-content/uploads/Election-2024-Swing-States-WI-Topline-FINAL.pdf\n",
      "89138: Michigan, https://echelonin.wpenginepowered.com/wp-content/uploads/Election-2024-Swing-States-MI-Topline-FINAL.pdf\n",
      "89139: Pennsylvania, https://echelonin.wpenginepowered.com/wp-content/uploads/Election-2024-Swing-States-PA-Topline-FINAL.pdf\n",
      "89156: Pennsylvania, https://www.suffolk.edu/-/media/suffolk/documents/academics/research-at-suffolk/suprc/polls/other-states/2024/11_1_2024_pennsylvania_statewide_marginals.pdf\n",
      "89163: Michigan, https://ssl2002.webhosting.comcast.net/epic-mra/press/Stwd_Survey_Oct2024_Media_Freq.pdf\n",
      "89197: Pennsylvania, https://www.washingtonpost.com/documents/72dca438-07b6-42a8-853d-d56d384817dd.pdf\n",
      "89271: Georgia, https://www.nytimes.com/interactive/2024/11/03/us/elections/times-siena-georgia-poll-toplines.html\n",
      "89272: North Carolina, https://www.nytimes.com/interactive/2024/11/03/us/elections/times-siena-north-carolina-poll-toplines.html\n",
      "89274: Michigan, https://www.nytimes.com/interactive/2024/11/03/us/elections/times-siena-michigan-poll-toplines.html\n",
      "89275: Pennsylvania, https://www.nytimes.com/interactive/2024/11/03/us/elections/times-siena-pennsylvania-poll-toplines.html\n",
      "89276: Wisconsin, https://www.nytimes.com/interactive/2024/11/03/us/elections/times-siena-wisconsin-poll-toplines.html\n",
      "89306: Pennsylvania, https://www.thetrafalgargroup.org/wp-content/uploads/2024/11/PA-24-General-1103-Poll-Report.pdf\n",
      "89314: Wisconsin, https://www.thetrafalgargroup.org/wp-content/uploads/2024/11/WI-Gen-Pres-Report-1103.pdf\n",
      "89315: Michigan, https://www.thetrafalgargroup.org/wp-content/uploads/2024/11/MI-Gen-Pres-Poll-Report-1103.pdf\n",
      "89343: North Carolina, https://view.officeapps.live.com/op/view.aspx?src=https%3A%2F%2Fcdn.filestackcontent.com%2Fxc9GczLNTfeqNBzGQPqE&wdOrigin=BROWSELINK\n",
      "89345: Pennsylvania, https://cdn.prod.website-files.com/65f9d6603173d65814fdf49a/6728f32bf34dbb6ff98cedd9_Mainstreet_PA_Oct_2024_Public.pdf\n",
      "89346: Wisconsin, https://cdn.prod.website-files.com/65f9d6603173d65814fdf49a/6728f3beaf9901e8f255f846_Mainstreet_WI_Oct_2024_Public.pdf\n",
      "89347: Michigan, https://cdn.prod.website-files.com/65f9d6603173d65814fdf49a/6728f398cf614b3c9af5fd62_Mainstreet_MI_Oct_2024_Public.pdf\n"
     ]
    }
   ],
   "source": [
    "for poll in poll_data.index:\n",
    "    print(f\"{poll}: {poll_data.loc[poll].state}, {poll_data.loc[poll].url}\")"
   ]
  },
  {
   "cell_type": "code",
   "execution_count": 19,
   "id": "ff89b6a7-69a0-4f9a-9233-6a92a6f22023",
   "metadata": {},
   "outputs": [],
   "source": [
    "poll_data['moe'] = [moes[poll] for poll in poll_data.index]\n",
    "poll_data = poll_data.dropna()"
   ]
  },
  {
   "cell_type": "code",
   "execution_count": 20,
   "id": "c20c03a5-56f3-4a65-896d-9d1f8c0e069f",
   "metadata": {},
   "outputs": [],
   "source": [
    "scaled_errors = (poll_data.margin - poll_data.result)/2/poll_data.moe"
   ]
  },
  {
   "cell_type": "code",
   "execution_count": 21,
   "id": "370519d2-44c0-42d7-9d51-1510f2e45980",
   "metadata": {},
   "outputs": [
    {
     "data": {
      "image/png": "[encoded data removed]",
      "text/plain": [
       "<Figure size 640x480 with 1 Axes>"
      ]
     },
     "metadata": {},
     "output_type": "display_data"
    }
   ],
   "source": [
    "plt.hist(scaled_errors)\n",
    "plt.title(\"Polling Errors\")\n",
    "plt.xlabel(\"Error in favor of Trump scaled by reported Margin of Error\")\n",
    "plt.xlim(-1,1)\n",
    "plt.show()"
   ]
  },
  {
   "cell_type": "code",
   "execution_count": 25,
   "id": "9e6d5a9a-11d5-422a-bd8d-345242e3333d",
   "metadata": {},
   "outputs": [
    {
     "data": {
      "text/plain": [
       "'https://x.com/SusquehannaPR/status/1851266619445571914'"
      ]
     },
     "execution_count": 25,
     "metadata": {},
     "output_type": "execute_result"
    }
   ],
   "source": [
    "poll_data.loc[89017].url"
   ]
  },
  {
   "cell_type": "code",
   "execution_count": null,
   "id": "2e3763f3-4b86-4ac5-bdf9-140c7a8e9131",
   "metadata": {},
   "outputs": [],
   "source": []
  }
 ],
 "metadata": {
  "kernelspec": {
   "display_name": "Python 3 (ipykernel)",
   "language": "python",
   "name": "python3"
  },
  "language_info": {
   "codemirror_mode": {
    "name": "ipython",
    "version": 3
   },
   "file_extension": ".py",
   "mimetype": "text/x-python",
   "name": "python",
   "nbconvert_exporter": "python",
   "pygments_lexer": "ipython3",
   "version": "3.10.12"
  }
 },
 "nbformat": 4,
 "nbformat_minor": 5
}
